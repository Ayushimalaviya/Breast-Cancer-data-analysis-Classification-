{
 "cells": [
  {
   "cell_type": "code",
   "execution_count": null,
   "id": "271fbe73",
   "metadata": {},
   "outputs": [],
   "source": [
    "from sklearn.neighbors import KNeighborsClassifier\n",
    "from sklearn.metrics import accuracy_score\n",
    "from sklearn.metrics import classification_report\n",
    "from sklearn.metrics import confusion_matrix\n",
    "from sklearn.model_selection import train_test_split\n",
    "import matplotlib.pyplot as plt\n",
    "import numpy as np \n",
    "import pandas as pd"
   ]
  },
  {
   "cell_type": "code",
   "execution_count": 79,
   "id": "b4110e75",
   "metadata": {
    "scrolled": true
   },
   "outputs": [],
   "source": [
    "data = pd.read_csv('breast-cancer-wisconsin.csv', na_values = '?')\n",
    "data1 = data.dropna()"
   ]
  },
  {
   "cell_type": "code",
   "execution_count": 80,
   "id": "1f4e471c",
   "metadata": {},
   "outputs": [],
   "source": [
    "X = data1.iloc[:,1:10]\n",
    "y = data1.iloc[:,10]\n",
    "X_train, X_test, y_train, y_test = train_test_split(X, y, test_size = 0.3)"
   ]
  },
  {
   "cell_type": "code",
   "execution_count": 81,
   "id": "da7e7137",
   "metadata": {
    "scrolled": true
   },
   "outputs": [
    {
     "name": "stdout",
     "output_type": "stream",
     "text": [
      "k = 3 \n",
      "\n",
      "\n",
      "Accuracy Score is:  0.9804878048780488\n",
      "\n",
      "\n",
      "\n",
      "classification_report of data after Knn applied: \n",
      "               precision    recall  f1-score   support\n",
      "\n",
      "      Benign       0.99      0.98      0.98       134\n",
      "   Malignant       0.96      0.99      0.97        71\n",
      "\n",
      "    accuracy                           0.98       205\n",
      "   macro avg       0.98      0.98      0.98       205\n",
      "weighted avg       0.98      0.98      0.98       205\n",
      " \n",
      "\n",
      "\n",
      "Confusion Matrix of data predicted \n",
      " [[131   3]\n",
      " [  1  70]] \n",
      "\n",
      "\n",
      "k = 5 \n",
      "\n",
      "\n",
      "Accuracy Score is:  0.975609756097561\n",
      "\n",
      "\n",
      "\n",
      "classification_report of data after Knn applied: \n",
      "               precision    recall  f1-score   support\n",
      "\n",
      "      Benign       0.98      0.98      0.98       134\n",
      "   Malignant       0.96      0.97      0.97        71\n",
      "\n",
      "    accuracy                           0.98       205\n",
      "   macro avg       0.97      0.97      0.97       205\n",
      "weighted avg       0.98      0.98      0.98       205\n",
      " \n",
      "\n",
      "\n",
      "Confusion Matrix of data predicted \n",
      " [[131   3]\n",
      " [  2  69]] \n",
      "\n",
      "\n",
      "k = 10 \n",
      "\n",
      "\n",
      "Accuracy Score is:  0.9707317073170731\n",
      "\n",
      "\n",
      "\n",
      "classification_report of data after Knn applied: \n",
      "               precision    recall  f1-score   support\n",
      "\n",
      "      Benign       0.97      0.99      0.98       134\n",
      "   Malignant       0.97      0.94      0.96        71\n",
      "\n",
      "    accuracy                           0.97       205\n",
      "   macro avg       0.97      0.96      0.97       205\n",
      "weighted avg       0.97      0.97      0.97       205\n",
      " \n",
      "\n",
      "\n",
      "Confusion Matrix of data predicted \n",
      " [[132   2]\n",
      " [  4  67]] \n",
      "\n",
      "\n"
     ]
    }
   ],
   "source": [
    "lst = [3,5,10]\n",
    "target = ['Benign', 'Malignant']\n",
    "for i in range(len(lst)):\n",
    "    knn = KNeighborsClassifier(n_neighbors=lst[i])\n",
    "    knn.fit(X_train, y_train)\n",
    "  \n",
    " # Predict on dataset which model has not seen before\n",
    "    y_predict = knn.predict(X_test)\n",
    "    print('k =',lst[i],'\\n\\n')\n",
    "    print('Accuracy Score is: ',accuracy_score(y_test, y_predict)) #TP+FN/TP+TF+FP+FN\n",
    "    print('\\n\\n\\nclassification_report of data after Knn applied: \\n',classification_report(y_test, y_predict,target_names=target),'\\n\\n') \n",
    "    #precision = TP/TP+FP & recall = TP/TP+TN & f1_score = harmonic_mean of pre and recall \n",
    "    print('Confusion Matrix of data predicted \\n',confusion_matrix(y_test, y_predict),'\\n\\n') #TP,TN,FP,FN,"
   ]
  }
 ],
 "metadata": {
  "kernelspec": {
   "display_name": "Python 3 (ipykernel)",
   "language": "python",
   "name": "python3"
  },
  "language_info": {
   "codemirror_mode": {
    "name": "ipython",
    "version": 3
   },
   "file_extension": ".py",
   "mimetype": "text/x-python",
   "name": "python",
   "nbconvert_exporter": "python",
   "pygments_lexer": "ipython3",
   "version": "3.9.12"
  }
 },
 "nbformat": 4,
 "nbformat_minor": 5
}
