{
 "cells": [
  {
   "cell_type": "code",
   "execution_count": 2,
   "id": "91bb8363",
   "metadata": {},
   "outputs": [],
   "source": [
    "import pandas as pd\n",
    "import numpy as np\n",
    "import matplotlib.pyplot as plt\n",
    "from sklearn.model_selection import train_test_split\n",
    "from sklearn.tree import DecisionTreeClassifier\n",
    "from sklearn.metrics import accuracy_score \n",
    "from sklearn import tree\n",
    "from sklearn.metrics import confusion_matrix\n",
    "from sklearn.metrics import classification_report"
   ]
  },
  {
   "cell_type": "code",
   "execution_count": 3,
   "id": "c3fc9bc5",
   "metadata": {},
   "outputs": [],
   "source": [
    "dta = pd.read_csv('breast-cancer-wisconsin.csv', na_values = '?')\n",
    "data = dta.dropna()"
   ]
  },
  {
   "cell_type": "code",
   "execution_count": 4,
   "id": "9c392f8e",
   "metadata": {},
   "outputs": [],
   "source": [
    "X = data.iloc[:,1:10]\n",
    "y = data.iloc[:,10]"
   ]
  },
  {
   "cell_type": "code",
   "execution_count": 5,
   "id": "64e74302",
   "metadata": {},
   "outputs": [],
   "source": [
    "X_train, X_test, y_train, y_test = train_test_split(X, y , test_size = 0.3)"
   ]
  },
  {
   "cell_type": "code",
   "execution_count": 6,
   "id": "c2968a4d",
   "metadata": {},
   "outputs": [
    {
     "data": {
      "text/plain": [
       "DecisionTreeClassifier(criterion='entropy', random_state=0)"
      ]
     },
     "execution_count": 6,
     "metadata": {},
     "output_type": "execute_result"
    }
   ],
   "source": [
    "#entropy criterion is used to classify the split of CART\n",
    "dtc_initiate = DecisionTreeClassifier(criterion = 'entropy', random_state = 0) \n",
    "#max_depth can also be given to get particular no. of splits\n",
    "dtc_initiate.fit(X_train, y_train)"
   ]
  },
  {
   "cell_type": "code",
   "execution_count": 7,
   "id": "d83a5323",
   "metadata": {},
   "outputs": [],
   "source": [
    "#predict the test results\n",
    "y_pred = dtc_initiate.predict(X_test)\n",
    "y_predict = dtc_initiate.predict(X_train)"
   ]
  },
  {
   "cell_type": "code",
   "execution_count": 8,
   "id": "f6bb4a9f",
   "metadata": {},
   "outputs": [
    {
     "name": "stdout",
     "output_type": "stream",
     "text": [
      "Accuracy for Test dataset: 0.9122\n",
      "Accuracy for Train dataset: 1.0000\n"
     ]
    }
   ],
   "source": [
    "#accuracy score to check overfitting of the data\n",
    "print('Accuracy for Test dataset: {0:0.4f}'.format(accuracy_score(y_test, y_pred)))\n",
    "print('Accuracy for Train dataset: {0:0.4f}'.format(accuracy_score(y_train,y_predict)))\n",
    "#as both the accuray are similar data is not overfitted"
   ]
  },
  {
   "cell_type": "code",
   "execution_count": 9,
   "id": "7d17bfb3",
   "metadata": {},
   "outputs": [
    {
     "data": {
      "text/plain": [
       "[Text(0.532608695652174, 0.9375, 'X[1] <= 3.5\\nentropy = 0.924\\nsamples = 478\\nvalue = [316, 162]'),\n",
       " Text(0.1956521739130435, 0.8125, 'X[5] <= 2.5\\nentropy = 0.341\\nsamples = 331\\nvalue = [310, 21]'),\n",
       " Text(0.08695652173913043, 0.6875, 'X[7] <= 8.5\\nentropy = 0.033\\nsamples = 295\\nvalue = [294, 1]'),\n",
       " Text(0.043478260869565216, 0.5625, 'entropy = 0.0\\nsamples = 294\\nvalue = [294, 0]'),\n",
       " Text(0.13043478260869565, 0.5625, 'entropy = 0.0\\nsamples = 1\\nvalue = [0, 1]'),\n",
       " Text(0.30434782608695654, 0.6875, 'X[2] <= 1.5\\nentropy = 0.991\\nsamples = 36\\nvalue = [16, 20]'),\n",
       " Text(0.21739130434782608, 0.5625, 'X[0] <= 3.5\\nentropy = 0.567\\nsamples = 15\\nvalue = [13, 2]'),\n",
       " Text(0.17391304347826086, 0.4375, 'entropy = 0.0\\nsamples = 11\\nvalue = [11, 0]'),\n",
       " Text(0.2608695652173913, 0.4375, 'X[5] <= 4.0\\nentropy = 1.0\\nsamples = 4\\nvalue = [2, 2]'),\n",
       " Text(0.21739130434782608, 0.3125, 'entropy = 0.0\\nsamples = 2\\nvalue = [2, 0]'),\n",
       " Text(0.30434782608695654, 0.3125, 'entropy = 0.0\\nsamples = 2\\nvalue = [0, 2]'),\n",
       " Text(0.391304347826087, 0.5625, 'X[7] <= 4.5\\nentropy = 0.592\\nsamples = 21\\nvalue = [3, 18]'),\n",
       " Text(0.34782608695652173, 0.4375, 'entropy = 0.0\\nsamples = 12\\nvalue = [0, 12]'),\n",
       " Text(0.43478260869565216, 0.4375, 'X[7] <= 5.5\\nentropy = 0.918\\nsamples = 9\\nvalue = [3, 6]'),\n",
       " Text(0.391304347826087, 0.3125, 'entropy = 0.0\\nsamples = 2\\nvalue = [2, 0]'),\n",
       " Text(0.4782608695652174, 0.3125, 'X[2] <= 3.5\\nentropy = 0.592\\nsamples = 7\\nvalue = [1, 6]'),\n",
       " Text(0.43478260869565216, 0.1875, 'entropy = 0.0\\nsamples = 4\\nvalue = [0, 4]'),\n",
       " Text(0.5217391304347826, 0.1875, 'X[4] <= 3.5\\nentropy = 0.918\\nsamples = 3\\nvalue = [1, 2]'),\n",
       " Text(0.4782608695652174, 0.0625, 'entropy = 0.0\\nsamples = 2\\nvalue = [0, 2]'),\n",
       " Text(0.5652173913043478, 0.0625, 'entropy = 0.0\\nsamples = 1\\nvalue = [1, 0]'),\n",
       " Text(0.8695652173913043, 0.8125, 'X[5] <= 8.5\\nentropy = 0.246\\nsamples = 147\\nvalue = [6, 141]'),\n",
       " Text(0.8260869565217391, 0.6875, 'X[1] <= 4.5\\nentropy = 0.459\\nsamples = 62\\nvalue = [6, 56]'),\n",
       " Text(0.7391304347826086, 0.5625, 'X[2] <= 5.5\\nentropy = 0.946\\nsamples = 11\\nvalue = [4, 7]'),\n",
       " Text(0.6956521739130435, 0.4375, 'X[7] <= 5.5\\nentropy = 0.985\\nsamples = 7\\nvalue = [4, 3]'),\n",
       " Text(0.6521739130434783, 0.3125, 'X[5] <= 4.0\\nentropy = 0.971\\nsamples = 5\\nvalue = [2, 3]'),\n",
       " Text(0.6086956521739131, 0.1875, 'entropy = 0.0\\nsamples = 2\\nvalue = [0, 2]'),\n",
       " Text(0.6956521739130435, 0.1875, 'X[0] <= 3.5\\nentropy = 0.918\\nsamples = 3\\nvalue = [2, 1]'),\n",
       " Text(0.6521739130434783, 0.0625, 'entropy = 0.0\\nsamples = 1\\nvalue = [0, 1]'),\n",
       " Text(0.7391304347826086, 0.0625, 'entropy = 0.0\\nsamples = 2\\nvalue = [2, 0]'),\n",
       " Text(0.7391304347826086, 0.3125, 'entropy = 0.0\\nsamples = 2\\nvalue = [2, 0]'),\n",
       " Text(0.782608695652174, 0.4375, 'entropy = 0.0\\nsamples = 4\\nvalue = [0, 4]'),\n",
       " Text(0.9130434782608695, 0.5625, 'X[3] <= 1.5\\nentropy = 0.239\\nsamples = 51\\nvalue = [2, 49]'),\n",
       " Text(0.8695652173913043, 0.4375, 'X[0] <= 7.0\\nentropy = 0.811\\nsamples = 8\\nvalue = [2, 6]'),\n",
       " Text(0.8260869565217391, 0.3125, 'X[4] <= 5.5\\nentropy = 1.0\\nsamples = 4\\nvalue = [2, 2]'),\n",
       " Text(0.782608695652174, 0.1875, 'entropy = 0.0\\nsamples = 2\\nvalue = [2, 0]'),\n",
       " Text(0.8695652173913043, 0.1875, 'entropy = 0.0\\nsamples = 2\\nvalue = [0, 2]'),\n",
       " Text(0.9130434782608695, 0.3125, 'entropy = 0.0\\nsamples = 4\\nvalue = [0, 4]'),\n",
       " Text(0.9565217391304348, 0.4375, 'entropy = 0.0\\nsamples = 43\\nvalue = [0, 43]'),\n",
       " Text(0.9130434782608695, 0.6875, 'entropy = 0.0\\nsamples = 85\\nvalue = [0, 85]')]"
      ]
     },
     "execution_count": 9,
     "metadata": {},
     "output_type": "execute_result"
    },
    {
     "data": {
      "image/png": "[encoded data removed]",
      "text/plain": [
       "<Figure size 432x288 with 1 Axes>"
      ]
     },
     "metadata": {
      "needs_background": "light"
     },
     "output_type": "display_data"
    }
   ],
   "source": [
    "#to visiualize decision tree\n",
    "tree.plot_tree(dtc_initiate.fit(X_train, y_train)) "
   ]
  },
  {
   "cell_type": "code",
   "execution_count": 12,
   "id": "258be1bc",
   "metadata": {},
   "outputs": [
    {
     "name": "stdout",
     "output_type": "stream",
     "text": [
      "Confusion Metrics: \n",
      "\n",
      " [[118   8]\n",
      " [ 10  69]]\n"
     ]
    }
   ],
   "source": [
    "#confusion metrics and classification report\n",
    "print('Confusion Metrics: \\n\\n', confusion_matrix(y_pred,y_test))"
   ]
  },
  {
   "cell_type": "code",
   "execution_count": 18,
   "id": "148047f9",
   "metadata": {},
   "outputs": [
    {
     "name": "stdout",
     "output_type": "stream",
     "text": [
      "Classification report               precision    recall  f1-score   support\n",
      "\n",
      "      Benign       0.92      0.94      0.93       126\n",
      "   Malignant       0.90      0.87      0.88        79\n",
      "\n",
      "    accuracy                           0.91       205\n",
      "   macro avg       0.91      0.90      0.91       205\n",
      "weighted avg       0.91      0.91      0.91       205\n",
      "\n"
     ]
    }
   ],
   "source": [
    "target = ['Benign','Malignant']\n",
    "print('Classification report', classification_report(y_pred,y_test,target_names=target))"
   ]
  }
 ],
 "metadata": {
  "kernelspec": {
   "display_name": "Python 3 (ipykernel)",
   "language": "python",
   "name": "python3"
  },
  "language_info": {
   "codemirror_mode": {
    "name": "ipython",
    "version": 3
   },
   "file_extension": ".py",
   "mimetype": "text/x-python",
   "name": "python",
   "nbconvert_exporter": "python",
   "pygments_lexer": "ipython3",
   "version": "3.9.12"
  }
 },
 "nbformat": 4,
 "nbformat_minor": 5
}
